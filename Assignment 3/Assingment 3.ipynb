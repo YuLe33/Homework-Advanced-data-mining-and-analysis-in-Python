{
 "cells": [
  {
   "cell_type": "code",
   "execution_count": 52,
   "id": "95422f1a-e64c-4a62-9391-39c7d30ddde3",
   "metadata": {},
   "outputs": [],
   "source": [
    "import pandas as pd\n",
    "import numpy as np\n",
    "import requests"
   ]
  },
  {
   "cell_type": "code",
   "execution_count": 61,
   "id": "61241f5e-f9ca-490f-a05e-46609b2f392e",
   "metadata": {},
   "outputs": [],
   "source": [
    "#api_key = 'Please insert your API KEY here'"
   ]
  },
  {
   "cell_type": "code",
   "execution_count": 54,
   "id": "3cafce13-a687-4852-b3f1-408c09e75d1a",
   "metadata": {},
   "outputs": [],
   "source": [
    " def destinations_info(origin,destination):\n",
    "    url = f\"https://maps.googleapis.com/maps/api/distancematrix/json?origins={origin}&destinations={destination}&units=kilometers&key={api_key}\"\n",
    "    try:\n",
    "        response = requests.get(url)\n",
    "        if not response.status_code == 200:\n",
    "            print(\"HTTP error\",response.status_code)\n",
    "        else:\n",
    "            try:\n",
    "                response_data = response.json()\n",
    "            except:\n",
    "                print(\"Response not in valid JSON format\")\n",
    "    except:\n",
    "        print(\"Something went wrong with requests.get\")\n",
    "        \n",
    "    distance = (response_data)[\"rows\"][0][\"elements\"][0][\"distance\"][\"text\"]\n",
    "    target = (response_data)[\"destination_addresses\"][0].split(',')[0]\n",
    "    duration = (response_data)[\"rows\"][0][\"elements\"][0][\"duration\"][\"value\"]\n",
    "    hours,minutes = duration // 3600 , (duration % 3600) // 60\n",
    "    duration= f'{hours} hours and {minutes} minutes'\n",
    "    \n",
    "    url=\"https://maps.googleapis.com/maps/api/geocode/json?address=%s&key=%s\" % (destination,api_key)\n",
    "        \n",
    "    try:\n",
    "        response = requests.get(url)\n",
    "        if not response.status_code == 200:\n",
    "            print(\"HTTP error\",response.status_code)\n",
    "        else:\n",
    "            try:\n",
    "                response_data = response.json()\n",
    "            except:\n",
    "                print(\"Response not in valid JSON format\")\n",
    "    except:\n",
    "        print(\"Something went wrong with requests.get\")\n",
    "    \n",
    "    lng = response_data ['results'][0][\"geometry\"][\"location\"]['lng']    \n",
    "    lat = response_data ['results'][0][\"geometry\"][\"location\"]['lat']\n",
    "    \n",
    "    return target,distance,duration,lng,lat"
   ]
  },
  {
   "cell_type": "code",
   "execution_count": 55,
   "id": "f87b2160-23a3-47a5-9894-0c6e124f4a76",
   "metadata": {},
   "outputs": [],
   "source": [
    "# Create an empty dictionary to hold the values\n",
    "my_dict = {}\n",
    "\n",
    "# Create empty lists to hold the values for each column\n",
    "target_lst ,dist_lst ,Dur_lst ,long_lst ,lat_lst = [],[],[],[],[]\n",
    "\n",
    "# Open the file containing the destinations\n",
    "fname = open('dests.txt')\n",
    "\n",
    "origin = 'Tel Aviv'\n",
    "\n",
    "# Read each line from the file and get the destinations\n",
    "for line in fname:\n",
    "    line = line.rstrip()\n",
    "    target, distance,duration,lng, lat = destinations_info(origin, line)\n",
    "    target_lst.append(target)\n",
    "    dist_lst.append(distance)\n",
    "    Dur_lst.append(duration)\n",
    "    long_lst.append(lng)\n",
    "    lat_lst.append(lat)\n",
    "\n",
    "# Add the lists to the dictionary\n",
    "my_dict['Target'] = target_lst\n",
    "my_dict['Distance_km'] = dist_lst\n",
    "my_dict['Duration (hour+minutes)'] = Dur_lst\n",
    "my_dict['Longitude'] = long_lst\n",
    "my_dict['latitude'] = lat_lst\n",
    "\n",
    "# Convert the dictionary to a pandas dataframe\n",
    "df = pd.DataFrame.from_dict(my_dict)"
   ]
  },
  {
   "cell_type": "code",
   "execution_count": 56,
   "id": "460e8aa9-42c0-4e14-a1ac-a0afc5f1e3ca",
   "metadata": {},
   "outputs": [
    {
     "data": {
      "text/html": [
       "<div>\n",
       "<style scoped>\n",
       "    .dataframe tbody tr th:only-of-type {\n",
       "        vertical-align: middle;\n",
       "    }\n",
       "\n",
       "    .dataframe tbody tr th {\n",
       "        vertical-align: top;\n",
       "    }\n",
       "\n",
       "    .dataframe thead th {\n",
       "        text-align: right;\n",
       "    }\n",
       "</style>\n",
       "<table border=\"1\" class=\"dataframe\">\n",
       "  <thead>\n",
       "    <tr style=\"text-align: right;\">\n",
       "      <th></th>\n",
       "      <th>Target</th>\n",
       "      <th>Distance_km</th>\n",
       "      <th>Duration (hour+minutes)</th>\n",
       "      <th>Longitude</th>\n",
       "      <th>latitude</th>\n",
       "    </tr>\n",
       "  </thead>\n",
       "  <tbody>\n",
       "    <tr>\n",
       "      <th>0</th>\n",
       "      <td>İstanbul</td>\n",
       "      <td>1,815 km</td>\n",
       "      <td>21 hours and 2 minutes</td>\n",
       "      <td>28.978359</td>\n",
       "      <td>41.008238</td>\n",
       "    </tr>\n",
       "    <tr>\n",
       "      <th>1</th>\n",
       "      <td>Amsterdam</td>\n",
       "      <td>4,533 km</td>\n",
       "      <td>48 hours and 3 minutes</td>\n",
       "      <td>4.904139</td>\n",
       "      <td>52.367573</td>\n",
       "    </tr>\n",
       "    <tr>\n",
       "      <th>2</th>\n",
       "      <td>Valletta</td>\n",
       "      <td>3,793 km</td>\n",
       "      <td>50 hours and 50 minutes</td>\n",
       "      <td>14.514100</td>\n",
       "      <td>35.899237</td>\n",
       "    </tr>\n",
       "    <tr>\n",
       "      <th>3</th>\n",
       "      <td>Basel</td>\n",
       "      <td>4,093 km</td>\n",
       "      <td>44 hours and 2 minutes</td>\n",
       "      <td>7.588576</td>\n",
       "      <td>47.559599</td>\n",
       "    </tr>\n",
       "    <tr>\n",
       "      <th>4</th>\n",
       "      <td>Doha</td>\n",
       "      <td>2,164 km</td>\n",
       "      <td>22 hours and 38 minutes</td>\n",
       "      <td>51.531040</td>\n",
       "      <td>25.285447</td>\n",
       "    </tr>\n",
       "  </tbody>\n",
       "</table>\n",
       "</div>"
      ],
      "text/plain": [
       "      Target Distance_km  Duration (hour+minutes)  Longitude   latitude\n",
       "0   İstanbul    1,815 km   21 hours and 2 minutes  28.978359  41.008238\n",
       "1  Amsterdam    4,533 km   48 hours and 3 minutes   4.904139  52.367573\n",
       "2   Valletta    3,793 km  50 hours and 50 minutes  14.514100  35.899237\n",
       "3      Basel    4,093 km   44 hours and 2 minutes   7.588576  47.559599\n",
       "4       Doha    2,164 km  22 hours and 38 minutes  51.531040  25.285447"
      ]
     },
     "execution_count": 56,
     "metadata": {},
     "output_type": "execute_result"
    }
   ],
   "source": [
    "df"
   ]
  },
  {
   "cell_type": "code",
   "execution_count": 57,
   "id": "3a4741c8-d4a5-4139-b424-088d0ebf8cf0",
   "metadata": {},
   "outputs": [
    {
     "name": "stdout",
     "output_type": "stream",
     "text": [
      "The 3 cities with the longest distance are: Amsterdam, Basel and Valletta\n"
     ]
    }
   ],
   "source": [
    "df_copy = df.copy()\n",
    "# extract the distance values as floats\n",
    "df_copy['Distance_km'] = df_copy['Distance_km'].str.replace(',', '').str.replace(' km', '').astype(float)\n",
    "\n",
    "# sort the dataframe by distance in descending order\n",
    "df_copy = df_copy.sort_values(by='Distance_km', ascending=False)\n",
    "\n",
    "# print the top 3 cities with the longest distance\n",
    "top_cities = df_copy.head(3)['Target'].tolist()\n",
    "print(\"The 3 cities with the longest distance are:\", top_cities[0]+', '+top_cities[1]+' and '+top_cities[2])"
   ]
  },
  {
   "cell_type": "code",
   "execution_count": 58,
   "id": "d690d281-a096-48d7-909a-e167738229dc",
   "metadata": {},
   "outputs": [
    {
     "data": {
      "text/html": [
       "<div>\n",
       "<style scoped>\n",
       "    .dataframe tbody tr th:only-of-type {\n",
       "        vertical-align: middle;\n",
       "    }\n",
       "\n",
       "    .dataframe tbody tr th {\n",
       "        vertical-align: top;\n",
       "    }\n",
       "\n",
       "    .dataframe thead th {\n",
       "        text-align: right;\n",
       "    }\n",
       "</style>\n",
       "<table border=\"1\" class=\"dataframe\">\n",
       "  <thead>\n",
       "    <tr style=\"text-align: right;\">\n",
       "      <th></th>\n",
       "      <th>Target</th>\n",
       "      <th>Distance_km</th>\n",
       "      <th>Duration (hour+minutes)</th>\n",
       "      <th>Longitude</th>\n",
       "      <th>latitude</th>\n",
       "    </tr>\n",
       "  </thead>\n",
       "  <tbody>\n",
       "    <tr>\n",
       "      <th>1</th>\n",
       "      <td>Amsterdam</td>\n",
       "      <td>4533.0</td>\n",
       "      <td>48 hours and 3 minutes</td>\n",
       "      <td>4.904139</td>\n",
       "      <td>52.367573</td>\n",
       "    </tr>\n",
       "    <tr>\n",
       "      <th>3</th>\n",
       "      <td>Basel</td>\n",
       "      <td>4093.0</td>\n",
       "      <td>44 hours and 2 minutes</td>\n",
       "      <td>7.588576</td>\n",
       "      <td>47.559599</td>\n",
       "    </tr>\n",
       "    <tr>\n",
       "      <th>2</th>\n",
       "      <td>Valletta</td>\n",
       "      <td>3793.0</td>\n",
       "      <td>50 hours and 50 minutes</td>\n",
       "      <td>14.514100</td>\n",
       "      <td>35.899237</td>\n",
       "    </tr>\n",
       "  </tbody>\n",
       "</table>\n",
       "</div>"
      ],
      "text/plain": [
       "      Target  Distance_km  Duration (hour+minutes)  Longitude   latitude\n",
       "1  Amsterdam       4533.0   48 hours and 3 minutes   4.904139  52.367573\n",
       "3      Basel       4093.0   44 hours and 2 minutes   7.588576  47.559599\n",
       "2   Valletta       3793.0  50 hours and 50 minutes  14.514100  35.899237"
      ]
     },
     "execution_count": 58,
     "metadata": {},
     "output_type": "execute_result"
    }
   ],
   "source": [
    "df_copy.head(3)"
   ]
  },
  {
   "cell_type": "code",
   "execution_count": null,
   "id": "cd1e89ae-acde-41a9-9092-024bedec3584",
   "metadata": {},
   "outputs": [],
   "source": []
  }
 ],
 "metadata": {
  "kernelspec": {
   "display_name": "Python 3 (ipykernel)",
   "language": "python",
   "name": "python3"
  },
  "language_info": {
   "codemirror_mode": {
    "name": "ipython",
    "version": 3
   },
   "file_extension": ".py",
   "mimetype": "text/x-python",
   "name": "python",
   "nbconvert_exporter": "python",
   "pygments_lexer": "ipython3",
   "version": "3.8.8"
  }
 },
 "nbformat": 4,
 "nbformat_minor": 5
}
